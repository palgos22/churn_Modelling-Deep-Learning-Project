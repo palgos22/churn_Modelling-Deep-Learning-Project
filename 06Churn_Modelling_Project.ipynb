{
  "nbformat": 4,
  "nbformat_minor": 0,
  "metadata": {
    "colab": {
      "name": "06Churn_Modelling Project.ipynb",
      "provenance": [],
      "collapsed_sections": []
    },
    "kernelspec": {
      "name": "python3",
      "display_name": "Python 3"
    },
    "language_info": {
      "name": "python"
    }
  },
  "cells": [
    {
      "cell_type": "markdown",
      "source": [
        "##                        Churn Modelling Project\n",
        "\n",
        "\n",
        "This data set contains details of a bank's customers and the target variable\n",
        "is a binary variable reflecting the fact whether the customer left the bank\n",
        "  \n",
        "(closed his account) or he continues to be a customer."
      ],
      "metadata": {
        "id": "vZbwe0JAmi19"
      }
    },
    {
      "cell_type": "code",
      "execution_count": null,
      "metadata": {
        "id": "xn_OrJLx0VHf"
      },
      "outputs": [],
      "source": [
        "# import basic libraries\n",
        "import numpy as np\n",
        "import pandas as pd\n",
        "import seaborn as sns\n",
        "import matplotlib.pyplot as plt\n",
        "import warnings\n",
        "warnings.filterwarnings('ignore')"
      ]
    },
    {
      "cell_type": "code",
      "source": [
        "# TO load dataset \n",
        "df=pd.read_csv('/content/drive/MyDrive/Palak Deep Learning/Churn_Modelling.csv')"
      ],
      "metadata": {
        "id": "xbsE15wa0fF_"
      },
      "execution_count": null,
      "outputs": []
    },
    {
      "cell_type": "code",
      "source": [
        ""
      ],
      "metadata": {
        "id": "k6ut4wlS2OWT"
      },
      "execution_count": null,
      "outputs": []
    },
    {
      "cell_type": "code",
      "source": [
        "# To show first 5 record\n",
        "df.head()"
      ],
      "metadata": {
        "colab": {
          "base_uri": "https://localhost:8080/",
          "height": 250
        },
        "id": "XnkiFo1E1E86",
        "outputId": "f4773fb9-1185-4d87-9d00-6b83783036e8"
      },
      "execution_count": null,
      "outputs": [
        {
          "output_type": "execute_result",
          "data": {
            "text/plain": [
              "   RowNumber  CustomerId   Surname  CreditScore Geography  Gender  Age  \\\n",
              "0          1    15634602  Hargrave          619    France  Female   42   \n",
              "1          2    15647311      Hill          608     Spain  Female   41   \n",
              "2          3    15619304      Onio          502    France  Female   42   \n",
              "3          4    15701354      Boni          699    France  Female   39   \n",
              "4          5    15737888  Mitchell          850     Spain  Female   43   \n",
              "\n",
              "   Tenure    Balance  NumOfProducts  HasCrCard  IsActiveMember  \\\n",
              "0       2       0.00              1          1               1   \n",
              "1       1   83807.86              1          0               1   \n",
              "2       8  159660.80              3          1               0   \n",
              "3       1       0.00              2          0               0   \n",
              "4       2  125510.82              1          1               1   \n",
              "\n",
              "   EstimatedSalary  Exited  \n",
              "0        101348.88       1  \n",
              "1        112542.58       0  \n",
              "2        113931.57       1  \n",
              "3         93826.63       0  \n",
              "4         79084.10       0  "
            ],
            "text/html": [
              "\n",
              "  <div id=\"df-523660b8-ae49-46cf-96f4-7b2fa2fe5c45\">\n",
              "    <div class=\"colab-df-container\">\n",
              "      <div>\n",
              "<style scoped>\n",
              "    .dataframe tbody tr th:only-of-type {\n",
              "        vertical-align: middle;\n",
              "    }\n",
              "\n",
              "    .dataframe tbody tr th {\n",
              "        vertical-align: top;\n",
              "    }\n",
              "\n",
              "    .dataframe thead th {\n",
              "        text-align: right;\n",
              "    }\n",
              "</style>\n",
              "<table border=\"1\" class=\"dataframe\">\n",
              "  <thead>\n",
              "    <tr style=\"text-align: right;\">\n",
              "      <th></th>\n",
              "      <th>RowNumber</th>\n",
              "      <th>CustomerId</th>\n",
              "      <th>Surname</th>\n",
              "      <th>CreditScore</th>\n",
              "      <th>Geography</th>\n",
              "      <th>Gender</th>\n",
              "      <th>Age</th>\n",
              "      <th>Tenure</th>\n",
              "      <th>Balance</th>\n",
              "      <th>NumOfProducts</th>\n",
              "      <th>HasCrCard</th>\n",
              "      <th>IsActiveMember</th>\n",
              "      <th>EstimatedSalary</th>\n",
              "      <th>Exited</th>\n",
              "    </tr>\n",
              "  </thead>\n",
              "  <tbody>\n",
              "    <tr>\n",
              "      <th>0</th>\n",
              "      <td>1</td>\n",
              "      <td>15634602</td>\n",
              "      <td>Hargrave</td>\n",
              "      <td>619</td>\n",
              "      <td>France</td>\n",
              "      <td>Female</td>\n",
              "      <td>42</td>\n",
              "      <td>2</td>\n",
              "      <td>0.00</td>\n",
              "      <td>1</td>\n",
              "      <td>1</td>\n",
              "      <td>1</td>\n",
              "      <td>101348.88</td>\n",
              "      <td>1</td>\n",
              "    </tr>\n",
              "    <tr>\n",
              "      <th>1</th>\n",
              "      <td>2</td>\n",
              "      <td>15647311</td>\n",
              "      <td>Hill</td>\n",
              "      <td>608</td>\n",
              "      <td>Spain</td>\n",
              "      <td>Female</td>\n",
              "      <td>41</td>\n",
              "      <td>1</td>\n",
              "      <td>83807.86</td>\n",
              "      <td>1</td>\n",
              "      <td>0</td>\n",
              "      <td>1</td>\n",
              "      <td>112542.58</td>\n",
              "      <td>0</td>\n",
              "    </tr>\n",
              "    <tr>\n",
              "      <th>2</th>\n",
              "      <td>3</td>\n",
              "      <td>15619304</td>\n",
              "      <td>Onio</td>\n",
              "      <td>502</td>\n",
              "      <td>France</td>\n",
              "      <td>Female</td>\n",
              "      <td>42</td>\n",
              "      <td>8</td>\n",
              "      <td>159660.80</td>\n",
              "      <td>3</td>\n",
              "      <td>1</td>\n",
              "      <td>0</td>\n",
              "      <td>113931.57</td>\n",
              "      <td>1</td>\n",
              "    </tr>\n",
              "    <tr>\n",
              "      <th>3</th>\n",
              "      <td>4</td>\n",
              "      <td>15701354</td>\n",
              "      <td>Boni</td>\n",
              "      <td>699</td>\n",
              "      <td>France</td>\n",
              "      <td>Female</td>\n",
              "      <td>39</td>\n",
              "      <td>1</td>\n",
              "      <td>0.00</td>\n",
              "      <td>2</td>\n",
              "      <td>0</td>\n",
              "      <td>0</td>\n",
              "      <td>93826.63</td>\n",
              "      <td>0</td>\n",
              "    </tr>\n",
              "    <tr>\n",
              "      <th>4</th>\n",
              "      <td>5</td>\n",
              "      <td>15737888</td>\n",
              "      <td>Mitchell</td>\n",
              "      <td>850</td>\n",
              "      <td>Spain</td>\n",
              "      <td>Female</td>\n",
              "      <td>43</td>\n",
              "      <td>2</td>\n",
              "      <td>125510.82</td>\n",
              "      <td>1</td>\n",
              "      <td>1</td>\n",
              "      <td>1</td>\n",
              "      <td>79084.10</td>\n",
              "      <td>0</td>\n",
              "    </tr>\n",
              "  </tbody>\n",
              "</table>\n",
              "</div>\n",
              "      <button class=\"colab-df-convert\" onclick=\"convertToInteractive('df-523660b8-ae49-46cf-96f4-7b2fa2fe5c45')\"\n",
              "              title=\"Convert this dataframe to an interactive table.\"\n",
              "              style=\"display:none;\">\n",
              "        \n",
              "  <svg xmlns=\"http://www.w3.org/2000/svg\" height=\"24px\"viewBox=\"0 0 24 24\"\n",
              "       width=\"24px\">\n",
              "    <path d=\"M0 0h24v24H0V0z\" fill=\"none\"/>\n",
              "    <path d=\"M18.56 5.44l.94 2.06.94-2.06 2.06-.94-2.06-.94-.94-2.06-.94 2.06-2.06.94zm-11 1L8.5 8.5l.94-2.06 2.06-.94-2.06-.94L8.5 2.5l-.94 2.06-2.06.94zm10 10l.94 2.06.94-2.06 2.06-.94-2.06-.94-.94-2.06-.94 2.06-2.06.94z\"/><path d=\"M17.41 7.96l-1.37-1.37c-.4-.4-.92-.59-1.43-.59-.52 0-1.04.2-1.43.59L10.3 9.45l-7.72 7.72c-.78.78-.78 2.05 0 2.83L4 21.41c.39.39.9.59 1.41.59.51 0 1.02-.2 1.41-.59l7.78-7.78 2.81-2.81c.8-.78.8-2.07 0-2.86zM5.41 20L4 18.59l7.72-7.72 1.47 1.35L5.41 20z\"/>\n",
              "  </svg>\n",
              "      </button>\n",
              "      \n",
              "  <style>\n",
              "    .colab-df-container {\n",
              "      display:flex;\n",
              "      flex-wrap:wrap;\n",
              "      gap: 12px;\n",
              "    }\n",
              "\n",
              "    .colab-df-convert {\n",
              "      background-color: #E8F0FE;\n",
              "      border: none;\n",
              "      border-radius: 50%;\n",
              "      cursor: pointer;\n",
              "      display: none;\n",
              "      fill: #1967D2;\n",
              "      height: 32px;\n",
              "      padding: 0 0 0 0;\n",
              "      width: 32px;\n",
              "    }\n",
              "\n",
              "    .colab-df-convert:hover {\n",
              "      background-color: #E2EBFA;\n",
              "      box-shadow: 0px 1px 2px rgba(60, 64, 67, 0.3), 0px 1px 3px 1px rgba(60, 64, 67, 0.15);\n",
              "      fill: #174EA6;\n",
              "    }\n",
              "\n",
              "    [theme=dark] .colab-df-convert {\n",
              "      background-color: #3B4455;\n",
              "      fill: #D2E3FC;\n",
              "    }\n",
              "\n",
              "    [theme=dark] .colab-df-convert:hover {\n",
              "      background-color: #434B5C;\n",
              "      box-shadow: 0px 1px 3px 1px rgba(0, 0, 0, 0.15);\n",
              "      filter: drop-shadow(0px 1px 2px rgba(0, 0, 0, 0.3));\n",
              "      fill: #FFFFFF;\n",
              "    }\n",
              "  </style>\n",
              "\n",
              "      <script>\n",
              "        const buttonEl =\n",
              "          document.querySelector('#df-523660b8-ae49-46cf-96f4-7b2fa2fe5c45 button.colab-df-convert');\n",
              "        buttonEl.style.display =\n",
              "          google.colab.kernel.accessAllowed ? 'block' : 'none';\n",
              "\n",
              "        async function convertToInteractive(key) {\n",
              "          const element = document.querySelector('#df-523660b8-ae49-46cf-96f4-7b2fa2fe5c45');\n",
              "          const dataTable =\n",
              "            await google.colab.kernel.invokeFunction('convertToInteractive',\n",
              "                                                     [key], {});\n",
              "          if (!dataTable) return;\n",
              "\n",
              "          const docLinkHtml = 'Like what you see? Visit the ' +\n",
              "            '<a target=\"_blank\" href=https://colab.research.google.com/notebooks/data_table.ipynb>data table notebook</a>'\n",
              "            + ' to learn more about interactive tables.';\n",
              "          element.innerHTML = '';\n",
              "          dataTable['output_type'] = 'display_data';\n",
              "          await google.colab.output.renderOutput(dataTable, element);\n",
              "          const docLink = document.createElement('div');\n",
              "          docLink.innerHTML = docLinkHtml;\n",
              "          element.appendChild(docLink);\n",
              "        }\n",
              "      </script>\n",
              "    </div>\n",
              "  </div>\n",
              "  "
            ]
          },
          "metadata": {},
          "execution_count": 3
        }
      ]
    },
    {
      "cell_type": "code",
      "source": [
        "\n",
        "# To show the numbers of rows and columns\n",
        "df.shape"
      ],
      "metadata": {
        "colab": {
          "base_uri": "https://localhost:8080/"
        },
        "id": "vAO9HS3v1Ntj",
        "outputId": "f5033bc4-45a9-4ff0-d41d-1ec25ea5a376"
      },
      "execution_count": null,
      "outputs": [
        {
          "output_type": "execute_result",
          "data": {
            "text/plain": [
              "(10000, 14)"
            ]
          },
          "metadata": {},
          "execution_count": 4
        }
      ]
    },
    {
      "cell_type": "code",
      "source": [
        "# To delete unwanted features permanently in dataset\n",
        "df.drop([\"RowNumber\",\"CustomerId\",\"Surname\"],axis=1,inplace=True)\n"
      ],
      "metadata": {
        "id": "VeRJQfnf17Dm"
      },
      "execution_count": null,
      "outputs": []
    },
    {
      "cell_type": "code",
      "source": [
        "# TO show the null values\n",
        "df.isnull().sum()"
      ],
      "metadata": {
        "colab": {
          "base_uri": "https://localhost:8080/"
        },
        "id": "v9bmZnb117Nl",
        "outputId": "253ff457-02f8-4740-e637-56c00678bf0c"
      },
      "execution_count": null,
      "outputs": [
        {
          "output_type": "execute_result",
          "data": {
            "text/plain": [
              "CreditScore        0\n",
              "Geography          0\n",
              "Gender             0\n",
              "Age                0\n",
              "Tenure             0\n",
              "Balance            0\n",
              "NumOfProducts      0\n",
              "HasCrCard          0\n",
              "IsActiveMember     0\n",
              "EstimatedSalary    0\n",
              "Exited             0\n",
              "dtype: int64"
            ]
          },
          "metadata": {},
          "execution_count": 6
        }
      ]
    },
    {
      "cell_type": "code",
      "source": [
        "# To visualize the null value\n",
        "sns.heatmap(df.isnull())\n",
        "plt.show()\n",
        "\n",
        "\n"
      ],
      "metadata": {
        "colab": {
          "base_uri": "https://localhost:8080/",
          "height": 342
        },
        "id": "QiaOHI2n10vc",
        "outputId": "44127b8b-a043-47f9-ba51-4a9559382deb"
      },
      "execution_count": null,
      "outputs": [
        {
          "output_type": "display_data",
          "data": {
            "text/plain": [
              "<Figure size 432x288 with 2 Axes>"
            ],
            "image/png": "[encoded data removed]"
          },
          "metadata": {
            "needs_background": "light"
          }
        }
      ]
    },
    {
      "cell_type": "code",
      "source": [
        "# To check the duplicates rows\n",
        "df.duplicated().sum()"
      ],
      "metadata": {
        "colab": {
          "base_uri": "https://localhost:8080/"
        },
        "id": "guWNdnpv4G7v",
        "outputId": "ebe7e4d0-6946-4f01-fec0-fd439554b7c0"
      },
      "execution_count": null,
      "outputs": [
        {
          "output_type": "execute_result",
          "data": {
            "text/plain": [
              "0"
            ]
          },
          "metadata": {},
          "execution_count": 8
        }
      ]
    },
    {
      "cell_type": "code",
      "source": [
        "# To show the datatypes\n",
        "df.dtypes"
      ],
      "metadata": {
        "colab": {
          "base_uri": "https://localhost:8080/"
        },
        "id": "ZLknMjSS4MkW",
        "outputId": "2738a05d-7386-44e6-d3d0-2833e7e96474"
      },
      "execution_count": null,
      "outputs": [
        {
          "output_type": "execute_result",
          "data": {
            "text/plain": [
              "CreditScore          int64\n",
              "Geography           object\n",
              "Gender              object\n",
              "Age                  int64\n",
              "Tenure               int64\n",
              "Balance            float64\n",
              "NumOfProducts        int64\n",
              "HasCrCard            int64\n",
              "IsActiveMember       int64\n",
              "EstimatedSalary    float64\n",
              "Exited               int64\n",
              "dtype: object"
            ]
          },
          "metadata": {},
          "execution_count": 9
        }
      ]
    },
    {
      "cell_type": "code",
      "source": [
        "# create 1st datafram df_cat to hold the categorical data\n",
        "df_cat=df.select_dtypes(object)"
      ],
      "metadata": {
        "id": "LoAz7u8V_SA-"
      },
      "execution_count": null,
      "outputs": []
    },
    {
      "cell_type": "code",
      "source": [
        "# creating 2nd dataframe df_num to hold numeric data\n",
        "df_num=df.select_dtypes(['int64','float64'])"
      ],
      "metadata": {
        "id": "2B4mmudu_2iB"
      },
      "execution_count": null,
      "outputs": []
    },
    {
      "cell_type": "code",
      "source": [
        "# converting all the categorical data into numeric data \n",
        "# we use labelEncoder to convert the data\n",
        "from sklearn.preprocessing import LabelEncoder\n",
        "# create object of Label Encoder\n",
        "for col in df_cat:\n",
        "   le=LabelEncoder()\n",
        "   df_cat[col]=le.fit_transform(df_cat[[col]])\n",
        "\n",
        "  \n"
      ],
      "metadata": {
        "id": "kyZ_o2Z-_2rx"
      },
      "execution_count": null,
      "outputs": []
    },
    {
      "cell_type": "code",
      "source": [
        "# concatenating of both the dataframe df_cat and df_new and hold into df_new\n",
        "df_new=pd.concat([df_cat,df_num],axis=1)"
      ],
      "metadata": {
        "id": "PgD3CosD_1fr"
      },
      "execution_count": null,
      "outputs": []
    },
    {
      "cell_type": "code",
      "source": [
        "# New dataframe\n",
        "df_new.head()"
      ],
      "metadata": {
        "colab": {
          "base_uri": "https://localhost:8080/",
          "height": 206
        },
        "id": "ihwltphX_1mb",
        "outputId": "bd5e4b23-b837-4fe7-d4bc-0f9fb502e18c"
      },
      "execution_count": null,
      "outputs": [
        {
          "output_type": "execute_result",
          "data": {
            "text/plain": [
              "   Geography  Gender  CreditScore  Age  Tenure    Balance  NumOfProducts  \\\n",
              "0          0       0          619   42       2       0.00              1   \n",
              "1          2       0          608   41       1   83807.86              1   \n",
              "2          0       0          502   42       8  159660.80              3   \n",
              "3          0       0          699   39       1       0.00              2   \n",
              "4          2       0          850   43       2  125510.82              1   \n",
              "\n",
              "   HasCrCard  IsActiveMember  EstimatedSalary  Exited  \n",
              "0          1               1        101348.88       1  \n",
              "1          0               1        112542.58       0  \n",
              "2          1               0        113931.57       1  \n",
              "3          0               0         93826.63       0  \n",
              "4          1               1         79084.10       0  "
            ],
            "text/html": [
              "\n",
              "  <div id=\"df-97bd9799-8796-49e5-bae7-61c341c5bfad\">\n",
              "    <div class=\"colab-df-container\">\n",
              "      <div>\n",
              "<style scoped>\n",
              "    .dataframe tbody tr th:only-of-type {\n",
              "        vertical-align: middle;\n",
              "    }\n",
              "\n",
              "    .dataframe tbody tr th {\n",
              "        vertical-align: top;\n",
              "    }\n",
              "\n",
              "    .dataframe thead th {\n",
              "        text-align: right;\n",
              "    }\n",
              "</style>\n",
              "<table border=\"1\" class=\"dataframe\">\n",
              "  <thead>\n",
              "    <tr style=\"text-align: right;\">\n",
              "      <th></th>\n",
              "      <th>Geography</th>\n",
              "      <th>Gender</th>\n",
              "      <th>CreditScore</th>\n",
              "      <th>Age</th>\n",
              "      <th>Tenure</th>\n",
              "      <th>Balance</th>\n",
              "      <th>NumOfProducts</th>\n",
              "      <th>HasCrCard</th>\n",
              "      <th>IsActiveMember</th>\n",
              "      <th>EstimatedSalary</th>\n",
              "      <th>Exited</th>\n",
              "    </tr>\n",
              "  </thead>\n",
              "  <tbody>\n",
              "    <tr>\n",
              "      <th>0</th>\n",
              "      <td>0</td>\n",
              "      <td>0</td>\n",
              "      <td>619</td>\n",
              "      <td>42</td>\n",
              "      <td>2</td>\n",
              "      <td>0.00</td>\n",
              "      <td>1</td>\n",
              "      <td>1</td>\n",
              "      <td>1</td>\n",
              "      <td>101348.88</td>\n",
              "      <td>1</td>\n",
              "    </tr>\n",
              "    <tr>\n",
              "      <th>1</th>\n",
              "      <td>2</td>\n",
              "      <td>0</td>\n",
              "      <td>608</td>\n",
              "      <td>41</td>\n",
              "      <td>1</td>\n",
              "      <td>83807.86</td>\n",
              "      <td>1</td>\n",
              "      <td>0</td>\n",
              "      <td>1</td>\n",
              "      <td>112542.58</td>\n",
              "      <td>0</td>\n",
              "    </tr>\n",
              "    <tr>\n",
              "      <th>2</th>\n",
              "      <td>0</td>\n",
              "      <td>0</td>\n",
              "      <td>502</td>\n",
              "      <td>42</td>\n",
              "      <td>8</td>\n",
              "      <td>159660.80</td>\n",
              "      <td>3</td>\n",
              "      <td>1</td>\n",
              "      <td>0</td>\n",
              "      <td>113931.57</td>\n",
              "      <td>1</td>\n",
              "    </tr>\n",
              "    <tr>\n",
              "      <th>3</th>\n",
              "      <td>0</td>\n",
              "      <td>0</td>\n",
              "      <td>699</td>\n",
              "      <td>39</td>\n",
              "      <td>1</td>\n",
              "      <td>0.00</td>\n",
              "      <td>2</td>\n",
              "      <td>0</td>\n",
              "      <td>0</td>\n",
              "      <td>93826.63</td>\n",
              "      <td>0</td>\n",
              "    </tr>\n",
              "    <tr>\n",
              "      <th>4</th>\n",
              "      <td>2</td>\n",
              "      <td>0</td>\n",
              "      <td>850</td>\n",
              "      <td>43</td>\n",
              "      <td>2</td>\n",
              "      <td>125510.82</td>\n",
              "      <td>1</td>\n",
              "      <td>1</td>\n",
              "      <td>1</td>\n",
              "      <td>79084.10</td>\n",
              "      <td>0</td>\n",
              "    </tr>\n",
              "  </tbody>\n",
              "</table>\n",
              "</div>\n",
              "      <button class=\"colab-df-convert\" onclick=\"convertToInteractive('df-97bd9799-8796-49e5-bae7-61c341c5bfad')\"\n",
              "              title=\"Convert this dataframe to an interactive table.\"\n",
              "              style=\"display:none;\">\n",
              "        \n",
              "  <svg xmlns=\"http://www.w3.org/2000/svg\" height=\"24px\"viewBox=\"0 0 24 24\"\n",
              "       width=\"24px\">\n",
              "    <path d=\"M0 0h24v24H0V0z\" fill=\"none\"/>\n",
              "    <path d=\"M18.56 5.44l.94 2.06.94-2.06 2.06-.94-2.06-.94-.94-2.06-.94 2.06-2.06.94zm-11 1L8.5 8.5l.94-2.06 2.06-.94-2.06-.94L8.5 2.5l-.94 2.06-2.06.94zm10 10l.94 2.06.94-2.06 2.06-.94-2.06-.94-.94-2.06-.94 2.06-2.06.94z\"/><path d=\"M17.41 7.96l-1.37-1.37c-.4-.4-.92-.59-1.43-.59-.52 0-1.04.2-1.43.59L10.3 9.45l-7.72 7.72c-.78.78-.78 2.05 0 2.83L4 21.41c.39.39.9.59 1.41.59.51 0 1.02-.2 1.41-.59l7.78-7.78 2.81-2.81c.8-.78.8-2.07 0-2.86zM5.41 20L4 18.59l7.72-7.72 1.47 1.35L5.41 20z\"/>\n",
              "  </svg>\n",
              "      </button>\n",
              "      \n",
              "  <style>\n",
              "    .colab-df-container {\n",
              "      display:flex;\n",
              "      flex-wrap:wrap;\n",
              "      gap: 12px;\n",
              "    }\n",
              "\n",
              "    .colab-df-convert {\n",
              "      background-color: #E8F0FE;\n",
              "      border: none;\n",
              "      border-radius: 50%;\n",
              "      cursor: pointer;\n",
              "      display: none;\n",
              "      fill: #1967D2;\n",
              "      height: 32px;\n",
              "      padding: 0 0 0 0;\n",
              "      width: 32px;\n",
              "    }\n",
              "\n",
              "    .colab-df-convert:hover {\n",
              "      background-color: #E2EBFA;\n",
              "      box-shadow: 0px 1px 2px rgba(60, 64, 67, 0.3), 0px 1px 3px 1px rgba(60, 64, 67, 0.15);\n",
              "      fill: #174EA6;\n",
              "    }\n",
              "\n",
              "    [theme=dark] .colab-df-convert {\n",
              "      background-color: #3B4455;\n",
              "      fill: #D2E3FC;\n",
              "    }\n",
              "\n",
              "    [theme=dark] .colab-df-convert:hover {\n",
              "      background-color: #434B5C;\n",
              "      box-shadow: 0px 1px 3px 1px rgba(0, 0, 0, 0.15);\n",
              "      filter: drop-shadow(0px 1px 2px rgba(0, 0, 0, 0.3));\n",
              "      fill: #FFFFFF;\n",
              "    }\n",
              "  </style>\n",
              "\n",
              "      <script>\n",
              "        const buttonEl =\n",
              "          document.querySelector('#df-97bd9799-8796-49e5-bae7-61c341c5bfad button.colab-df-convert');\n",
              "        buttonEl.style.display =\n",
              "          google.colab.kernel.accessAllowed ? 'block' : 'none';\n",
              "\n",
              "        async function convertToInteractive(key) {\n",
              "          const element = document.querySelector('#df-97bd9799-8796-49e5-bae7-61c341c5bfad');\n",
              "          const dataTable =\n",
              "            await google.colab.kernel.invokeFunction('convertToInteractive',\n",
              "                                                     [key], {});\n",
              "          if (!dataTable) return;\n",
              "\n",
              "          const docLinkHtml = 'Like what you see? Visit the ' +\n",
              "            '<a target=\"_blank\" href=https://colab.research.google.com/notebooks/data_table.ipynb>data table notebook</a>'\n",
              "            + ' to learn more about interactive tables.';\n",
              "          element.innerHTML = '';\n",
              "          dataTable['output_type'] = 'display_data';\n",
              "          await google.colab.output.renderOutput(dataTable, element);\n",
              "          const docLink = document.createElement('div');\n",
              "          docLink.innerHTML = docLinkHtml;\n",
              "          element.appendChild(docLink);\n",
              "        }\n",
              "      </script>\n",
              "    </div>\n",
              "  </div>\n",
              "  "
            ]
          },
          "metadata": {},
          "execution_count": 14
        }
      ]
    },
    {
      "cell_type": "code",
      "source": [
        "df_new.dtypes"
      ],
      "metadata": {
        "colab": {
          "base_uri": "https://localhost:8080/"
        },
        "id": "bvS9CHM7CdNo",
        "outputId": "cf59e0c5-55a0-4331-eb39-17f00e993cad"
      },
      "execution_count": null,
      "outputs": [
        {
          "output_type": "execute_result",
          "data": {
            "text/plain": [
              "Geography            int64\n",
              "Gender               int64\n",
              "CreditScore          int64\n",
              "Age                  int64\n",
              "Tenure               int64\n",
              "Balance            float64\n",
              "NumOfProducts        int64\n",
              "HasCrCard            int64\n",
              "IsActiveMember       int64\n",
              "EstimatedSalary    float64\n",
              "Exited               int64\n",
              "dtype: object"
            ]
          },
          "metadata": {},
          "execution_count": 15
        }
      ]
    },
    {
      "cell_type": "code",
      "source": [
        "# first check how many samples in both classes\n",
        "df['Exited'].value_counts()"
      ],
      "metadata": {
        "colab": {
          "base_uri": "https://localhost:8080/"
        },
        "id": "tPpC12f352Ew",
        "outputId": "0db490c5-19d4-46f0-c7c0-a8e81a86ebc3"
      },
      "execution_count": null,
      "outputs": [
        {
          "output_type": "execute_result",
          "data": {
            "text/plain": [
              "0    7963\n",
              "1    2037\n",
              "Name: Exited, dtype: int64"
            ]
          },
          "metadata": {},
          "execution_count": 16
        }
      ]
    },
    {
      "cell_type": "markdown",
      "source": [
        "Here as we can see the data is not equaly distributed.\n",
        "we have to devide the data into equally part\n"
      ],
      "metadata": {
        "id": "b-o9MG7gJZS7"
      }
    },
    {
      "cell_type": "code",
      "source": [
        "# Visualization the unbalance data\n",
        "plt.figure(figsize=(10,5))\n",
        "sns.countplot(data=df,x='Exited')\n",
        "f = df['Exited'].value_counts()\n",
        "plt.yticks(f)\n",
        "plt.show()\n"
      ],
      "metadata": {
        "id": "QMsJxwF24s2K",
        "colab": {
          "base_uri": "https://localhost:8080/",
          "height": 334
        },
        "outputId": "7f915612-3758-41cd-a443-1f5b5fdd355b"
      },
      "execution_count": null,
      "outputs": [
        {
          "output_type": "display_data",
          "data": {
            "text/plain": [
              "<Figure size 720x360 with 1 Axes>"
            ],
            "image/png": "[encoded data removed]"
          },
          "metadata": {
            "needs_background": "light"
          }
        }
      ]
    },
    {
      "cell_type": "code",
      "source": [
        "# select input and output \n",
        "X=df_new.drop(\"Exited\",axis=1) # input\n",
        "Y=df_new[\"Exited\"] # output \n"
      ],
      "metadata": {
        "id": "HW4nRmbf4s4q"
      },
      "execution_count": null,
      "outputs": []
    },
    {
      "cell_type": "code",
      "source": [
        "# Train Test split the data\n",
        "from sklearn.model_selection import train_test_split\n",
        "X_train ,X_test,Y_train,Y_test=train_test_split(X,Y,test_size=0.3,random_state=1)"
      ],
      "metadata": {
        "id": "bqQeRMca4s84"
      },
      "execution_count": null,
      "outputs": []
    },
    {
      "cell_type": "code",
      "source": [
        "## Apply scaling (Standard Scaler)\n",
        "from sklearn.preprocessing import StandardScaler\n",
        "# create object of StandardScaler class\n",
        "ss=StandardScaler()\n",
        "X_train=ss.fit_transform(X_train)\n",
        "X_test=ss.transform(X_test)"
      ],
      "metadata": {
        "id": "RbPh7JZ2CUbm"
      },
      "execution_count": null,
      "outputs": []
    },
    {
      "cell_type": "code",
      "source": [
        "X.shape"
      ],
      "metadata": {
        "colab": {
          "base_uri": "https://localhost:8080/"
        },
        "id": "eJfbIuIANRUv",
        "outputId": "c9e8fb4f-5d2e-4a6f-dc68-780e91888a02"
      },
      "execution_count": null,
      "outputs": [
        {
          "output_type": "execute_result",
          "data": {
            "text/plain": [
              "(10000, 10)"
            ]
          },
          "metadata": {},
          "execution_count": 21
        }
      ]
    },
    {
      "cell_type": "markdown",
      "source": [
        "**Appling ' RandomOverSampler ' to make data equal.**"
      ],
      "metadata": {
        "id": "h3ef8K40Kskz"
      }
    },
    {
      "cell_type": "markdown",
      "source": [
        "From the above value_counts of 'Exited' Column and from the Graph\n",
        "There are about: '7963' out of '2037' \n",
        "Which means the Data is not properly distributed\n",
        "we have to divided the data qually part then,\n",
        "use RandomOverSampler \n",
        "First import RandomOverSampler"
      ],
      "metadata": {
        "id": "x5izPZeVlNwV"
      }
    },
    {
      "cell_type": "code",
      "source": [
        "# Apply random over sampling : inbuild class\n",
        "from imblearn.over_sampling import RandomOverSampler"
      ],
      "metadata": {
        "id": "O-26cdwxKpt9"
      },
      "execution_count": null,
      "outputs": []
    },
    {
      "cell_type": "code",
      "source": [
        "# Create the object of RandomOverSampler\n",
        "ros = RandomOverSampler(random_state=1)"
      ],
      "metadata": {
        "id": "bA4v2K2NK3BP"
      },
      "execution_count": null,
      "outputs": []
    },
    {
      "cell_type": "code",
      "source": [
        "# Before apply RandomOverSampler on training data\n",
        "Y_train.value_counts()"
      ],
      "metadata": {
        "colab": {
          "base_uri": "https://localhost:8080/"
        },
        "id": "EJk5nQsFK7nS",
        "outputId": "1c6a3dbf-ff8f-44f6-b64a-2e85eeac171d"
      },
      "execution_count": null,
      "outputs": [
        {
          "output_type": "execute_result",
          "data": {
            "text/plain": [
              "0    5590\n",
              "1    1410\n",
              "Name: Exited, dtype: int64"
            ]
          },
          "metadata": {},
          "execution_count": 24
        }
      ]
    },
    {
      "cell_type": "code",
      "source": [
        "# Applied OverSampler on Training data (70%)\n",
        "X_train_ros,Y_train_ros = ros.fit_resample(X_train,Y_train)"
      ],
      "metadata": {
        "id": "IRyaaMrHLFpm"
      },
      "execution_count": null,
      "outputs": []
    },
    {
      "cell_type": "code",
      "source": [
        "# Check after apply RandomOverSampler\n",
        "Y_train_ros.value_counts()"
      ],
      "metadata": {
        "colab": {
          "base_uri": "https://localhost:8080/"
        },
        "id": "T2KJz16TLKe9",
        "outputId": "9554c90e-49be-474d-c476-0b1db9a1cde9"
      },
      "execution_count": null,
      "outputs": [
        {
          "output_type": "execute_result",
          "data": {
            "text/plain": [
              "0    5590\n",
              "1    5590\n",
              "Name: Exited, dtype: int64"
            ]
          },
          "metadata": {},
          "execution_count": 26
        }
      ]
    },
    {
      "cell_type": "code",
      "source": [
        "# Before apply RandomOverSampler on testing data\n",
        "Y_test.value_counts()"
      ],
      "metadata": {
        "colab": {
          "base_uri": "https://localhost:8080/"
        },
        "id": "g36oA1nCLTAn",
        "outputId": "984ba93d-966f-493d-ced5-468486610774"
      },
      "execution_count": null,
      "outputs": [
        {
          "output_type": "execute_result",
          "data": {
            "text/plain": [
              "0    2373\n",
              "1     627\n",
              "Name: Exited, dtype: int64"
            ]
          },
          "metadata": {},
          "execution_count": 27
        }
      ]
    },
    {
      "cell_type": "code",
      "source": [
        "# Also apply RandomOverSampler on tesing data (30%)\n",
        "X_test_ros,Y_test_ros = ros.fit_resample(X_test,Y_test)"
      ],
      "metadata": {
        "id": "rfd2moKYLWA_"
      },
      "execution_count": null,
      "outputs": []
    },
    {
      "cell_type": "code",
      "source": [
        "Y_test_ros.value_counts()"
      ],
      "metadata": {
        "colab": {
          "base_uri": "https://localhost:8080/"
        },
        "id": "03Hk4YBtLWJs",
        "outputId": "dbc1fc0f-345e-46c1-d352-4d36b87f82ae"
      },
      "execution_count": null,
      "outputs": [
        {
          "output_type": "execute_result",
          "data": {
            "text/plain": [
              "0    2373\n",
              "1    2373\n",
              "Name: Exited, dtype: int64"
            ]
          },
          "metadata": {},
          "execution_count": 29
        }
      ]
    },
    {
      "cell_type": "markdown",
      "source": [
        "Apply Neural Network\n"
      ],
      "metadata": {
        "id": "tgEpbX-vhdos"
      }
    },
    {
      "cell_type": "code",
      "source": [
        "#First step when we take Neurons only 10,. means  Total Number of Neurons = Total  Numbers of input  \n",
        "#  create a neural network \n",
        "import tensorflow as tf\n",
        "# create object of sequential class\n",
        "model=tf.keras.Sequential([\n",
        "       tf.keras.layers.Dense(units=10,activation='relu',input_shape=(X.shape[1],)),\n",
        "       # hidden layer 1\n",
        "       tf.keras.layers.Dense(units=10,activation='relu'), # second hidden layer\n",
        "       tf.keras.layers.Dense(units=1,activation='sigmoid') # output layer    \n",
        "])   "
      ],
      "metadata": {
        "id": "A3O4-t73GIZO"
      },
      "execution_count": null,
      "outputs": []
    },
    {
      "cell_type": "code",
      "source": [
        "model.summary()"
      ],
      "metadata": {
        "colab": {
          "base_uri": "https://localhost:8080/"
        },
        "id": "WlirPXT_GIkl",
        "outputId": "281a0aa7-738a-4f34-ab4d-cf5a73c45059"
      },
      "execution_count": null,
      "outputs": [
        {
          "output_type": "stream",
          "name": "stdout",
          "text": [
            "Model: \"sequential\"\n",
            "_________________________________________________________________\n",
            " Layer (type)                Output Shape              Param #   \n",
            "=================================================================\n",
            " dense (Dense)               (None, 10)                110       \n",
            "                                                                 \n",
            " dense_1 (Dense)             (None, 10)                110       \n",
            "                                                                 \n",
            " dense_2 (Dense)             (None, 1)                 11        \n",
            "                                                                 \n",
            "=================================================================\n",
            "Total params: 231\n",
            "Trainable params: 231\n",
            "Non-trainable params: 0\n",
            "_________________________________________________________________\n"
          ]
        }
      ]
    },
    {
      "cell_type": "code",
      "source": [
        "# Complie the model \n",
        "model.compile(optimizer='Adam',loss='binary_crossentropy',metrics=['accuracy'])"
      ],
      "metadata": {
        "id": "l6DDeMS0GmbF"
      },
      "execution_count": null,
      "outputs": []
    },
    {
      "cell_type": "code",
      "source": [
        " #Create Early Stopping  means create a call back \n",
        "from tensorflow.keras.callbacks import EarlyStopping\n",
        "callback=EarlyStopping(\n",
        "    monitor=\"val_loss\",\n",
        "    min_delta=0.00001,\n",
        "    patience=20,\n",
        "    verbose=1,\n",
        "    mode=\"auto\",\n",
        "    baseline=None,\n",
        "    restore_best_weights=False\n",
        ")"
      ],
      "metadata": {
        "id": "rh87utBWGw2p"
      },
      "execution_count": null,
      "outputs": []
    },
    {
      "cell_type": "code",
      "source": [
        "\n",
        "# Train the Model\n",
        "trained_model = model.fit(X_train_ros,Y_train_ros,batch_size=20,epochs=3500,validation_data=(X_test_ros,Y_test_ros),callbacks=callback)"
      ],
      "metadata": {
        "colab": {
          "base_uri": "https://localhost:8080/"
        },
        "id": "hDSzIB_VHOq4",
        "outputId": "30bfc9f0-81c4-4ca2-c0a4-8d88dc16f85a"
      },
      "execution_count": null,
      "outputs": [
        {
          "output_type": "stream",
          "name": "stdout",
          "text": [
            "Epoch 1/3500\n",
            "559/559 [==============================] - 2s 2ms/step - loss: 0.6072 - accuracy: 0.6727 - val_loss: 0.5555 - val_accuracy: 0.7078\n",
            "Epoch 2/3500\n",
            "559/559 [==============================] - 1s 2ms/step - loss: 0.5385 - accuracy: 0.7296 - val_loss: 0.5280 - val_accuracy: 0.7252\n",
            "Epoch 3/3500\n",
            "559/559 [==============================] - 2s 4ms/step - loss: 0.5086 - accuracy: 0.7497 - val_loss: 0.5114 - val_accuracy: 0.7368\n",
            "Epoch 4/3500\n",
            "559/559 [==============================] - 2s 4ms/step - loss: 0.4914 - accuracy: 0.7589 - val_loss: 0.4980 - val_accuracy: 0.7461\n",
            "Epoch 5/3500\n",
            "559/559 [==============================] - 2s 4ms/step - loss: 0.4803 - accuracy: 0.7654 - val_loss: 0.4937 - val_accuracy: 0.7577\n",
            "Epoch 6/3500\n",
            "559/559 [==============================] - 2s 4ms/step - loss: 0.4736 - accuracy: 0.7694 - val_loss: 0.4859 - val_accuracy: 0.7651\n",
            "Epoch 7/3500\n",
            "559/559 [==============================] - 2s 4ms/step - loss: 0.4683 - accuracy: 0.7742 - val_loss: 0.4841 - val_accuracy: 0.7686\n",
            "Epoch 8/3500\n",
            "559/559 [==============================] - 3s 5ms/step - loss: 0.4643 - accuracy: 0.7758 - val_loss: 0.4826 - val_accuracy: 0.7653\n",
            "Epoch 9/3500\n",
            "559/559 [==============================] - 3s 5ms/step - loss: 0.4609 - accuracy: 0.7780 - val_loss: 0.4822 - val_accuracy: 0.7630\n",
            "Epoch 10/3500\n",
            "559/559 [==============================] - 2s 4ms/step - loss: 0.4585 - accuracy: 0.7817 - val_loss: 0.4835 - val_accuracy: 0.7682\n",
            "Epoch 11/3500\n",
            "559/559 [==============================] - 3s 5ms/step - loss: 0.4558 - accuracy: 0.7850 - val_loss: 0.4764 - val_accuracy: 0.7674\n",
            "Epoch 12/3500\n",
            "559/559 [==============================] - 2s 4ms/step - loss: 0.4536 - accuracy: 0.7841 - val_loss: 0.4791 - val_accuracy: 0.7621\n",
            "Epoch 13/3500\n",
            "559/559 [==============================] - 2s 4ms/step - loss: 0.4513 - accuracy: 0.7870 - val_loss: 0.4787 - val_accuracy: 0.7556\n",
            "Epoch 14/3500\n",
            "559/559 [==============================] - 2s 4ms/step - loss: 0.4504 - accuracy: 0.7849 - val_loss: 0.4745 - val_accuracy: 0.7644\n",
            "Epoch 15/3500\n",
            "559/559 [==============================] - 2s 3ms/step - loss: 0.4488 - accuracy: 0.7861 - val_loss: 0.4736 - val_accuracy: 0.7649\n",
            "Epoch 16/3500\n",
            "559/559 [==============================] - 1s 2ms/step - loss: 0.4470 - accuracy: 0.7889 - val_loss: 0.4738 - val_accuracy: 0.7636\n",
            "Epoch 17/3500\n",
            "559/559 [==============================] - 1s 2ms/step - loss: 0.4463 - accuracy: 0.7887 - val_loss: 0.4755 - val_accuracy: 0.7556\n",
            "Epoch 18/3500\n",
            "559/559 [==============================] - 1s 2ms/step - loss: 0.4445 - accuracy: 0.7907 - val_loss: 0.4735 - val_accuracy: 0.7609\n",
            "Epoch 19/3500\n",
            "559/559 [==============================] - 1s 2ms/step - loss: 0.4443 - accuracy: 0.7911 - val_loss: 0.4721 - val_accuracy: 0.7623\n",
            "Epoch 20/3500\n",
            "559/559 [==============================] - 1s 2ms/step - loss: 0.4432 - accuracy: 0.7913 - val_loss: 0.4743 - val_accuracy: 0.7598\n",
            "Epoch 21/3500\n",
            "559/559 [==============================] - 1s 2ms/step - loss: 0.4424 - accuracy: 0.7927 - val_loss: 0.4808 - val_accuracy: 0.7615\n",
            "Epoch 22/3500\n",
            "559/559 [==============================] - 1s 2ms/step - loss: 0.4420 - accuracy: 0.7897 - val_loss: 0.4715 - val_accuracy: 0.7613\n",
            "Epoch 23/3500\n",
            "559/559 [==============================] - 1s 2ms/step - loss: 0.4411 - accuracy: 0.7934 - val_loss: 0.4729 - val_accuracy: 0.7594\n",
            "Epoch 24/3500\n",
            "559/559 [==============================] - 1s 2ms/step - loss: 0.4407 - accuracy: 0.7903 - val_loss: 0.4698 - val_accuracy: 0.7634\n",
            "Epoch 25/3500\n",
            "559/559 [==============================] - 1s 2ms/step - loss: 0.4402 - accuracy: 0.7928 - val_loss: 0.4712 - val_accuracy: 0.7630\n",
            "Epoch 26/3500\n",
            "559/559 [==============================] - 1s 2ms/step - loss: 0.4391 - accuracy: 0.7929 - val_loss: 0.4722 - val_accuracy: 0.7661\n",
            "Epoch 27/3500\n",
            "559/559 [==============================] - 1s 2ms/step - loss: 0.4388 - accuracy: 0.7936 - val_loss: 0.4702 - val_accuracy: 0.7627\n",
            "Epoch 28/3500\n",
            "559/559 [==============================] - 1s 2ms/step - loss: 0.4388 - accuracy: 0.7936 - val_loss: 0.4713 - val_accuracy: 0.7609\n",
            "Epoch 29/3500\n",
            "559/559 [==============================] - 1s 2ms/step - loss: 0.4382 - accuracy: 0.7911 - val_loss: 0.4732 - val_accuracy: 0.7606\n",
            "Epoch 30/3500\n",
            "559/559 [==============================] - 1s 2ms/step - loss: 0.4378 - accuracy: 0.7937 - val_loss: 0.4691 - val_accuracy: 0.7655\n",
            "Epoch 31/3500\n",
            "559/559 [==============================] - 1s 2ms/step - loss: 0.4369 - accuracy: 0.7952 - val_loss: 0.4694 - val_accuracy: 0.7619\n",
            "Epoch 32/3500\n",
            "559/559 [==============================] - 1s 2ms/step - loss: 0.4374 - accuracy: 0.7945 - val_loss: 0.4712 - val_accuracy: 0.7598\n",
            "Epoch 33/3500\n",
            "559/559 [==============================] - 1s 2ms/step - loss: 0.4364 - accuracy: 0.7962 - val_loss: 0.4714 - val_accuracy: 0.7640\n",
            "Epoch 34/3500\n",
            "559/559 [==============================] - 1s 2ms/step - loss: 0.4365 - accuracy: 0.7944 - val_loss: 0.4751 - val_accuracy: 0.7611\n",
            "Epoch 35/3500\n",
            "559/559 [==============================] - 1s 2ms/step - loss: 0.4367 - accuracy: 0.7929 - val_loss: 0.4723 - val_accuracy: 0.7651\n",
            "Epoch 36/3500\n",
            "559/559 [==============================] - 1s 2ms/step - loss: 0.4359 - accuracy: 0.7952 - val_loss: 0.4708 - val_accuracy: 0.7625\n",
            "Epoch 37/3500\n",
            "559/559 [==============================] - 1s 2ms/step - loss: 0.4352 - accuracy: 0.7955 - val_loss: 0.4710 - val_accuracy: 0.7668\n",
            "Epoch 38/3500\n",
            "559/559 [==============================] - 1s 2ms/step - loss: 0.4359 - accuracy: 0.7950 - val_loss: 0.4738 - val_accuracy: 0.7587\n",
            "Epoch 39/3500\n",
            "559/559 [==============================] - 1s 2ms/step - loss: 0.4347 - accuracy: 0.7945 - val_loss: 0.4726 - val_accuracy: 0.7644\n",
            "Epoch 40/3500\n",
            "559/559 [==============================] - 1s 2ms/step - loss: 0.4347 - accuracy: 0.7994 - val_loss: 0.4771 - val_accuracy: 0.7619\n",
            "Epoch 41/3500\n",
            "559/559 [==============================] - 1s 2ms/step - loss: 0.4349 - accuracy: 0.7957 - val_loss: 0.4719 - val_accuracy: 0.7600\n",
            "Epoch 42/3500\n",
            "559/559 [==============================] - 1s 2ms/step - loss: 0.4339 - accuracy: 0.7956 - val_loss: 0.4722 - val_accuracy: 0.7655\n",
            "Epoch 43/3500\n",
            "559/559 [==============================] - 1s 2ms/step - loss: 0.4342 - accuracy: 0.7949 - val_loss: 0.4716 - val_accuracy: 0.7587\n",
            "Epoch 44/3500\n",
            "559/559 [==============================] - 1s 2ms/step - loss: 0.4345 - accuracy: 0.7963 - val_loss: 0.4731 - val_accuracy: 0.7659\n",
            "Epoch 45/3500\n",
            "559/559 [==============================] - 1s 2ms/step - loss: 0.4336 - accuracy: 0.7962 - val_loss: 0.4739 - val_accuracy: 0.7617\n",
            "Epoch 46/3500\n",
            "559/559 [==============================] - 1s 2ms/step - loss: 0.4337 - accuracy: 0.7957 - val_loss: 0.4741 - val_accuracy: 0.7665\n",
            "Epoch 47/3500\n",
            "559/559 [==============================] - 1s 2ms/step - loss: 0.4332 - accuracy: 0.7973 - val_loss: 0.4722 - val_accuracy: 0.7674\n",
            "Epoch 48/3500\n",
            "559/559 [==============================] - 1s 2ms/step - loss: 0.4329 - accuracy: 0.7986 - val_loss: 0.4752 - val_accuracy: 0.7625\n",
            "Epoch 49/3500\n",
            "559/559 [==============================] - 1s 2ms/step - loss: 0.4329 - accuracy: 0.7971 - val_loss: 0.4742 - val_accuracy: 0.7661\n",
            "Epoch 50/3500\n",
            "559/559 [==============================] - 1s 2ms/step - loss: 0.4334 - accuracy: 0.7970 - val_loss: 0.4733 - val_accuracy: 0.7613\n",
            "Epoch 50: early stopping\n"
          ]
        }
      ]
    },
    {
      "cell_type": "code",
      "source": [
        "# Visualisation Training and Testing Loss\n",
        "plt.plot(trained_model.history['loss'],label='Training Loss')\n",
        "plt.plot(trained_model.history['val_loss'],label='Testing Loss')\n",
        "plt.legend()\n",
        "plt.show()"
      ],
      "metadata": {
        "colab": {
          "base_uri": "https://localhost:8080/",
          "height": 265
        },
        "id": "k8xxe-WCHV3Y",
        "outputId": "dd131b0f-49c7-415a-da05-d07a92d58280"
      },
      "execution_count": null,
      "outputs": [
        {
          "output_type": "display_data",
          "data": {
            "text/plain": [
              "<Figure size 432x288 with 1 Axes>"
            ],
            "image/png": "[encoded data removed]"
          },
          "metadata": {
            "needs_background": "light"
          }
        }
      ]
    },
    {
      "cell_type": "code",
      "source": [
        "# Visualise\n",
        "plt.plot(trained_model.history['accuracy'],label='Training Accuracy')\n",
        "plt.plot(trained_model.history['val_accuracy'],label='Testing Accuracy')\n",
        "plt.legend()\n",
        "plt.show()"
      ],
      "metadata": {
        "colab": {
          "base_uri": "https://localhost:8080/",
          "height": 265
        },
        "id": "VFr_qcQ9IOr7",
        "outputId": "e77910cc-c411-4af6-d766-15d42739e8b3"
      },
      "execution_count": null,
      "outputs": [
        {
          "output_type": "display_data",
          "data": {
            "text/plain": [
              "<Figure size 432x288 with 1 Axes>"
            ],
            "image/png": "[encoded data removed]"
          },
          "metadata": {
            "needs_background": "light"
          }
        }
      ]
    },
    {
      "cell_type": "code",
      "source": [
        "#Here we can see gap between Accuracy and loss, Which shows the model is Overfit\n"
      ],
      "metadata": {
        "id": "ETRiC_0ckXDZ"
      },
      "execution_count": null,
      "outputs": []
    },
    {
      "cell_type": "markdown",
      "source": [
        "Conclusion\n",
        "\n",
        "To reduce overfitting we will use Regularization: \n",
        "Regularization is a technique to prevent the model from overfitting.\n",
        "There are two type of technique of Regularization\n",
        "1.Ridge L2\n",
        "2.Lasso L1\n",
        "here we use Ridge L2 Regularization .\n",
        "\n",
        "\n",
        "\n"
      ],
      "metadata": {
        "id": "iqJs3R9oZNNF"
      }
    },
    {
      "cell_type": "code",
      "source": [
        "# To create overfitting, use regularation : Ridge means L2\n",
        "# create a neural network\n",
        "# Create object of Sequential Class \n",
        "# To reduce overfitting , use Regularation : Ridge means L2\n",
        "# Create a Neural Network\n",
        "\n",
        "from keras import regularizers\n",
        "model = tf.keras.models.Sequential([\n",
        "        tf.keras.layers.Dense(units=10,activation='relu',input_shape=(X.shape[1],),kernel_regularizer=regularizers.l2(0.01)),  # 1st Hidden Layer\n",
        "        tf.keras.layers.Dense(units=10,activation='relu'),                                                        # 2nd Hidden Layer\n",
        "        tf.keras.layers.Dense(units=1,activation='sigmoid',kernel_regularizer=regularizers.l2(0.01))              # Output Layer \n",
        "])"
      ],
      "metadata": {
        "id": "c22k3xEiIXkW"
      },
      "execution_count": null,
      "outputs": []
    },
    {
      "cell_type": "code",
      "source": [
        "# Compile the model\n",
        "model.compile(optimizer='Adam',loss='binary_crossentropy',metrics=['accuracy'])"
      ],
      "metadata": {
        "id": "Z1G07VmBI2LN"
      },
      "execution_count": null,
      "outputs": []
    },
    {
      "cell_type": "code",
      "source": [
        "#Train the Model\n",
        "trained_model = model.fit(X_train_ros,Y_train_ros,batch_size=20,epochs=3500,validation_data=(X_test_ros,Y_test_ros),callbacks=callback)"
      ],
      "metadata": {
        "colab": {
          "base_uri": "https://localhost:8080/"
        },
        "id": "lmqv0LTjI7_d",
        "outputId": "c627edfc-bc75-4bf2-8cb5-6f639461cdf1"
      },
      "execution_count": null,
      "outputs": [
        {
          "output_type": "stream",
          "name": "stdout",
          "text": [
            "Epoch 1/3500\n",
            "559/559 [==============================] - 2s 2ms/step - loss: 0.7193 - accuracy: 0.6258 - val_loss: 0.6384 - val_accuracy: 0.7031\n",
            "Epoch 2/3500\n",
            "559/559 [==============================] - 1s 2ms/step - loss: 0.6057 - accuracy: 0.7202 - val_loss: 0.5795 - val_accuracy: 0.7238\n",
            "Epoch 3/3500\n",
            "559/559 [==============================] - 1s 2ms/step - loss: 0.5590 - accuracy: 0.7436 - val_loss: 0.5446 - val_accuracy: 0.7503\n",
            "Epoch 4/3500\n",
            "559/559 [==============================] - 1s 2ms/step - loss: 0.5370 - accuracy: 0.7514 - val_loss: 0.5300 - val_accuracy: 0.7550\n",
            "Epoch 5/3500\n",
            "559/559 [==============================] - 1s 2ms/step - loss: 0.5275 - accuracy: 0.7541 - val_loss: 0.5275 - val_accuracy: 0.7554\n",
            "Epoch 6/3500\n",
            "559/559 [==============================] - 1s 2ms/step - loss: 0.5218 - accuracy: 0.7577 - val_loss: 0.5246 - val_accuracy: 0.7564\n",
            "Epoch 7/3500\n",
            "559/559 [==============================] - 1s 2ms/step - loss: 0.5171 - accuracy: 0.7588 - val_loss: 0.5204 - val_accuracy: 0.7497\n",
            "Epoch 8/3500\n",
            "559/559 [==============================] - 1s 2ms/step - loss: 0.5146 - accuracy: 0.7618 - val_loss: 0.5168 - val_accuracy: 0.7537\n",
            "Epoch 9/3500\n",
            "559/559 [==============================] - 1s 2ms/step - loss: 0.5123 - accuracy: 0.7595 - val_loss: 0.5176 - val_accuracy: 0.7585\n",
            "Epoch 10/3500\n",
            "559/559 [==============================] - 1s 2ms/step - loss: 0.5103 - accuracy: 0.7601 - val_loss: 0.5170 - val_accuracy: 0.7461\n",
            "Epoch 11/3500\n",
            "559/559 [==============================] - 1s 2ms/step - loss: 0.5082 - accuracy: 0.7625 - val_loss: 0.5139 - val_accuracy: 0.7583\n",
            "Epoch 12/3500\n",
            "559/559 [==============================] - 1s 2ms/step - loss: 0.5066 - accuracy: 0.7645 - val_loss: 0.5126 - val_accuracy: 0.7522\n",
            "Epoch 13/3500\n",
            "559/559 [==============================] - 1s 2ms/step - loss: 0.5057 - accuracy: 0.7630 - val_loss: 0.5108 - val_accuracy: 0.7528\n",
            "Epoch 14/3500\n",
            "559/559 [==============================] - 1s 2ms/step - loss: 0.5038 - accuracy: 0.7623 - val_loss: 0.5084 - val_accuracy: 0.7638\n",
            "Epoch 15/3500\n",
            "559/559 [==============================] - 1s 2ms/step - loss: 0.5025 - accuracy: 0.7628 - val_loss: 0.5114 - val_accuracy: 0.7577\n",
            "Epoch 16/3500\n",
            "559/559 [==============================] - 1s 2ms/step - loss: 0.5022 - accuracy: 0.7656 - val_loss: 0.5101 - val_accuracy: 0.7644\n",
            "Epoch 17/3500\n",
            "559/559 [==============================] - 1s 2ms/step - loss: 0.5012 - accuracy: 0.7653 - val_loss: 0.5081 - val_accuracy: 0.7594\n",
            "Epoch 18/3500\n",
            "559/559 [==============================] - 1s 2ms/step - loss: 0.5004 - accuracy: 0.7659 - val_loss: 0.5058 - val_accuracy: 0.7556\n",
            "Epoch 19/3500\n",
            "559/559 [==============================] - 1s 2ms/step - loss: 0.4992 - accuracy: 0.7643 - val_loss: 0.5042 - val_accuracy: 0.7636\n",
            "Epoch 20/3500\n",
            "559/559 [==============================] - 1s 2ms/step - loss: 0.4984 - accuracy: 0.7648 - val_loss: 0.5082 - val_accuracy: 0.7543\n",
            "Epoch 21/3500\n",
            "559/559 [==============================] - 1s 2ms/step - loss: 0.4972 - accuracy: 0.7676 - val_loss: 0.5037 - val_accuracy: 0.7625\n",
            "Epoch 22/3500\n",
            "559/559 [==============================] - 2s 4ms/step - loss: 0.4966 - accuracy: 0.7686 - val_loss: 0.5066 - val_accuracy: 0.7552\n",
            "Epoch 23/3500\n",
            "559/559 [==============================] - 2s 4ms/step - loss: 0.4962 - accuracy: 0.7655 - val_loss: 0.4996 - val_accuracy: 0.7609\n",
            "Epoch 24/3500\n",
            "559/559 [==============================] - 1s 2ms/step - loss: 0.4956 - accuracy: 0.7682 - val_loss: 0.5006 - val_accuracy: 0.7594\n",
            "Epoch 25/3500\n",
            "559/559 [==============================] - 1s 3ms/step - loss: 0.4948 - accuracy: 0.7652 - val_loss: 0.5039 - val_accuracy: 0.7537\n",
            "Epoch 26/3500\n",
            "559/559 [==============================] - 2s 4ms/step - loss: 0.4951 - accuracy: 0.7668 - val_loss: 0.5028 - val_accuracy: 0.7609\n",
            "Epoch 27/3500\n",
            "559/559 [==============================] - 2s 3ms/step - loss: 0.4939 - accuracy: 0.7676 - val_loss: 0.5065 - val_accuracy: 0.7482\n",
            "Epoch 28/3500\n",
            "559/559 [==============================] - 1s 2ms/step - loss: 0.4935 - accuracy: 0.7684 - val_loss: 0.5004 - val_accuracy: 0.7659\n",
            "Epoch 29/3500\n",
            "559/559 [==============================] - 1s 2ms/step - loss: 0.4926 - accuracy: 0.7677 - val_loss: 0.5002 - val_accuracy: 0.7623\n",
            "Epoch 30/3500\n",
            "559/559 [==============================] - 1s 2ms/step - loss: 0.4925 - accuracy: 0.7716 - val_loss: 0.4987 - val_accuracy: 0.7596\n",
            "Epoch 31/3500\n",
            "559/559 [==============================] - 1s 2ms/step - loss: 0.4921 - accuracy: 0.7687 - val_loss: 0.5012 - val_accuracy: 0.7571\n",
            "Epoch 32/3500\n",
            "559/559 [==============================] - 1s 2ms/step - loss: 0.4911 - accuracy: 0.7718 - val_loss: 0.5019 - val_accuracy: 0.7655\n",
            "Epoch 33/3500\n",
            "559/559 [==============================] - 1s 2ms/step - loss: 0.4907 - accuracy: 0.7704 - val_loss: 0.4966 - val_accuracy: 0.7632\n",
            "Epoch 34/3500\n",
            "559/559 [==============================] - 1s 2ms/step - loss: 0.4914 - accuracy: 0.7690 - val_loss: 0.4954 - val_accuracy: 0.7655\n",
            "Epoch 35/3500\n",
            "559/559 [==============================] - 1s 2ms/step - loss: 0.4906 - accuracy: 0.7682 - val_loss: 0.5028 - val_accuracy: 0.7537\n",
            "Epoch 36/3500\n",
            "559/559 [==============================] - 1s 2ms/step - loss: 0.4903 - accuracy: 0.7704 - val_loss: 0.4955 - val_accuracy: 0.7556\n",
            "Epoch 37/3500\n",
            "559/559 [==============================] - 1s 2ms/step - loss: 0.4891 - accuracy: 0.7733 - val_loss: 0.4990 - val_accuracy: 0.7590\n",
            "Epoch 38/3500\n",
            "559/559 [==============================] - 1s 2ms/step - loss: 0.4897 - accuracy: 0.7725 - val_loss: 0.5011 - val_accuracy: 0.7611\n",
            "Epoch 39/3500\n",
            "559/559 [==============================] - 1s 2ms/step - loss: 0.4896 - accuracy: 0.7728 - val_loss: 0.5055 - val_accuracy: 0.7646\n",
            "Epoch 40/3500\n",
            "559/559 [==============================] - 1s 2ms/step - loss: 0.4886 - accuracy: 0.7722 - val_loss: 0.4982 - val_accuracy: 0.7621\n",
            "Epoch 41/3500\n",
            "559/559 [==============================] - 1s 2ms/step - loss: 0.4879 - accuracy: 0.7742 - val_loss: 0.4960 - val_accuracy: 0.7594\n",
            "Epoch 42/3500\n",
            "559/559 [==============================] - 1s 2ms/step - loss: 0.4877 - accuracy: 0.7731 - val_loss: 0.4987 - val_accuracy: 0.7657\n",
            "Epoch 43/3500\n",
            "559/559 [==============================] - 1s 2ms/step - loss: 0.4879 - accuracy: 0.7719 - val_loss: 0.4989 - val_accuracy: 0.7634\n",
            "Epoch 44/3500\n",
            "559/559 [==============================] - 1s 2ms/step - loss: 0.4884 - accuracy: 0.7725 - val_loss: 0.5006 - val_accuracy: 0.7560\n",
            "Epoch 45/3500\n",
            "559/559 [==============================] - 1s 2ms/step - loss: 0.4873 - accuracy: 0.7724 - val_loss: 0.4957 - val_accuracy: 0.7617\n",
            "Epoch 46/3500\n",
            "559/559 [==============================] - 1s 2ms/step - loss: 0.4869 - accuracy: 0.7714 - val_loss: 0.4960 - val_accuracy: 0.7646\n",
            "Epoch 47/3500\n",
            "559/559 [==============================] - 1s 2ms/step - loss: 0.4871 - accuracy: 0.7730 - val_loss: 0.4987 - val_accuracy: 0.7617\n",
            "Epoch 48/3500\n",
            "559/559 [==============================] - 1s 2ms/step - loss: 0.4866 - accuracy: 0.7749 - val_loss: 0.4926 - val_accuracy: 0.7653\n",
            "Epoch 49/3500\n",
            "559/559 [==============================] - 1s 2ms/step - loss: 0.4861 - accuracy: 0.7724 - val_loss: 0.4965 - val_accuracy: 0.7609\n",
            "Epoch 50/3500\n",
            "559/559 [==============================] - 1s 2ms/step - loss: 0.4860 - accuracy: 0.7720 - val_loss: 0.4939 - val_accuracy: 0.7627\n",
            "Epoch 51/3500\n",
            "559/559 [==============================] - 1s 2ms/step - loss: 0.4844 - accuracy: 0.7739 - val_loss: 0.4994 - val_accuracy: 0.7558\n",
            "Epoch 52/3500\n",
            "559/559 [==============================] - 1s 2ms/step - loss: 0.4859 - accuracy: 0.7745 - val_loss: 0.4921 - val_accuracy: 0.7672\n",
            "Epoch 53/3500\n",
            "559/559 [==============================] - 1s 2ms/step - loss: 0.4844 - accuracy: 0.7771 - val_loss: 0.4945 - val_accuracy: 0.7568\n",
            "Epoch 54/3500\n",
            "559/559 [==============================] - 1s 2ms/step - loss: 0.4848 - accuracy: 0.7769 - val_loss: 0.4946 - val_accuracy: 0.7625\n",
            "Epoch 55/3500\n",
            "559/559 [==============================] - 1s 2ms/step - loss: 0.4849 - accuracy: 0.7738 - val_loss: 0.4940 - val_accuracy: 0.7672\n",
            "Epoch 56/3500\n",
            "559/559 [==============================] - 1s 2ms/step - loss: 0.4849 - accuracy: 0.7756 - val_loss: 0.4934 - val_accuracy: 0.7611\n",
            "Epoch 57/3500\n",
            "559/559 [==============================] - 1s 2ms/step - loss: 0.4837 - accuracy: 0.7755 - val_loss: 0.4892 - val_accuracy: 0.7625\n",
            "Epoch 58/3500\n",
            "559/559 [==============================] - 1s 2ms/step - loss: 0.4846 - accuracy: 0.7742 - val_loss: 0.4958 - val_accuracy: 0.7611\n",
            "Epoch 59/3500\n",
            "559/559 [==============================] - 1s 2ms/step - loss: 0.4831 - accuracy: 0.7751 - val_loss: 0.4954 - val_accuracy: 0.7562\n",
            "Epoch 60/3500\n",
            "559/559 [==============================] - 1s 2ms/step - loss: 0.4837 - accuracy: 0.7753 - val_loss: 0.4991 - val_accuracy: 0.7638\n",
            "Epoch 61/3500\n",
            "559/559 [==============================] - 1s 2ms/step - loss: 0.4833 - accuracy: 0.7743 - val_loss: 0.4901 - val_accuracy: 0.7665\n",
            "Epoch 62/3500\n",
            "559/559 [==============================] - 1s 2ms/step - loss: 0.4830 - accuracy: 0.7767 - val_loss: 0.4986 - val_accuracy: 0.7625\n",
            "Epoch 63/3500\n",
            "559/559 [==============================] - 1s 2ms/step - loss: 0.4824 - accuracy: 0.7769 - val_loss: 0.4948 - val_accuracy: 0.7649\n",
            "Epoch 64/3500\n",
            "559/559 [==============================] - 1s 2ms/step - loss: 0.4829 - accuracy: 0.7767 - val_loss: 0.4991 - val_accuracy: 0.7587\n",
            "Epoch 65/3500\n",
            "559/559 [==============================] - 1s 2ms/step - loss: 0.4818 - accuracy: 0.7757 - val_loss: 0.4982 - val_accuracy: 0.7640\n",
            "Epoch 66/3500\n",
            "559/559 [==============================] - 1s 2ms/step - loss: 0.4824 - accuracy: 0.7796 - val_loss: 0.4971 - val_accuracy: 0.7636\n",
            "Epoch 67/3500\n",
            "559/559 [==============================] - 1s 2ms/step - loss: 0.4826 - accuracy: 0.7754 - val_loss: 0.4913 - val_accuracy: 0.7602\n",
            "Epoch 68/3500\n",
            "559/559 [==============================] - 1s 2ms/step - loss: 0.4822 - accuracy: 0.7760 - val_loss: 0.4950 - val_accuracy: 0.7623\n",
            "Epoch 69/3500\n",
            "559/559 [==============================] - 1s 2ms/step - loss: 0.4819 - accuracy: 0.7782 - val_loss: 0.4882 - val_accuracy: 0.7659\n",
            "Epoch 70/3500\n",
            "559/559 [==============================] - 1s 2ms/step - loss: 0.4816 - accuracy: 0.7782 - val_loss: 0.4940 - val_accuracy: 0.7625\n",
            "Epoch 71/3500\n",
            "559/559 [==============================] - 1s 2ms/step - loss: 0.4817 - accuracy: 0.7783 - val_loss: 0.4934 - val_accuracy: 0.7646\n",
            "Epoch 72/3500\n",
            "559/559 [==============================] - 1s 2ms/step - loss: 0.4803 - accuracy: 0.7792 - val_loss: 0.4906 - val_accuracy: 0.7594\n",
            "Epoch 73/3500\n",
            "559/559 [==============================] - 1s 2ms/step - loss: 0.4804 - accuracy: 0.7740 - val_loss: 0.4919 - val_accuracy: 0.7661\n",
            "Epoch 74/3500\n",
            "559/559 [==============================] - 1s 2ms/step - loss: 0.4798 - accuracy: 0.7757 - val_loss: 0.4912 - val_accuracy: 0.7630\n",
            "Epoch 75/3500\n",
            "559/559 [==============================] - 1s 2ms/step - loss: 0.4802 - accuracy: 0.7765 - val_loss: 0.4945 - val_accuracy: 0.7625\n",
            "Epoch 76/3500\n",
            "559/559 [==============================] - 1s 2ms/step - loss: 0.4805 - accuracy: 0.7794 - val_loss: 0.4943 - val_accuracy: 0.7613\n",
            "Epoch 77/3500\n",
            "559/559 [==============================] - 1s 2ms/step - loss: 0.4786 - accuracy: 0.7778 - val_loss: 0.4921 - val_accuracy: 0.7581\n",
            "Epoch 78/3500\n",
            "559/559 [==============================] - 1s 2ms/step - loss: 0.4804 - accuracy: 0.7791 - val_loss: 0.4867 - val_accuracy: 0.7659\n",
            "Epoch 79/3500\n",
            "559/559 [==============================] - 1s 2ms/step - loss: 0.4784 - accuracy: 0.7802 - val_loss: 0.4944 - val_accuracy: 0.7596\n",
            "Epoch 80/3500\n",
            "559/559 [==============================] - 1s 2ms/step - loss: 0.4794 - accuracy: 0.7770 - val_loss: 0.4890 - val_accuracy: 0.7659\n",
            "Epoch 81/3500\n",
            "559/559 [==============================] - 1s 2ms/step - loss: 0.4794 - accuracy: 0.7778 - val_loss: 0.4926 - val_accuracy: 0.7649\n",
            "Epoch 82/3500\n",
            "559/559 [==============================] - 1s 2ms/step - loss: 0.4784 - accuracy: 0.7818 - val_loss: 0.4989 - val_accuracy: 0.7554\n",
            "Epoch 83/3500\n",
            "559/559 [==============================] - 1s 2ms/step - loss: 0.4787 - accuracy: 0.7778 - val_loss: 0.4909 - val_accuracy: 0.7640\n",
            "Epoch 84/3500\n",
            "559/559 [==============================] - 1s 2ms/step - loss: 0.4787 - accuracy: 0.7811 - val_loss: 0.4901 - val_accuracy: 0.7686\n",
            "Epoch 85/3500\n",
            "559/559 [==============================] - 1s 2ms/step - loss: 0.4777 - accuracy: 0.7822 - val_loss: 0.4905 - val_accuracy: 0.7611\n",
            "Epoch 86/3500\n",
            "559/559 [==============================] - 1s 2ms/step - loss: 0.4788 - accuracy: 0.7770 - val_loss: 0.4866 - val_accuracy: 0.7724\n",
            "Epoch 87/3500\n",
            "559/559 [==============================] - 1s 2ms/step - loss: 0.4781 - accuracy: 0.7785 - val_loss: 0.4949 - val_accuracy: 0.7600\n",
            "Epoch 88/3500\n",
            "559/559 [==============================] - 1s 2ms/step - loss: 0.4770 - accuracy: 0.7818 - val_loss: 0.4912 - val_accuracy: 0.7718\n",
            "Epoch 89/3500\n",
            "559/559 [==============================] - 1s 2ms/step - loss: 0.4779 - accuracy: 0.7827 - val_loss: 0.4890 - val_accuracy: 0.7594\n",
            "Epoch 90/3500\n",
            "559/559 [==============================] - 1s 2ms/step - loss: 0.4772 - accuracy: 0.7823 - val_loss: 0.4899 - val_accuracy: 0.7665\n",
            "Epoch 91/3500\n",
            "559/559 [==============================] - 1s 2ms/step - loss: 0.4774 - accuracy: 0.7811 - val_loss: 0.4883 - val_accuracy: 0.7663\n",
            "Epoch 92/3500\n",
            "559/559 [==============================] - 1s 2ms/step - loss: 0.4772 - accuracy: 0.7787 - val_loss: 0.4839 - val_accuracy: 0.7634\n",
            "Epoch 93/3500\n",
            "559/559 [==============================] - 1s 2ms/step - loss: 0.4776 - accuracy: 0.7795 - val_loss: 0.4898 - val_accuracy: 0.7642\n",
            "Epoch 94/3500\n",
            "559/559 [==============================] - 1s 2ms/step - loss: 0.4771 - accuracy: 0.7816 - val_loss: 0.4884 - val_accuracy: 0.7705\n",
            "Epoch 95/3500\n",
            "559/559 [==============================] - 1s 2ms/step - loss: 0.4771 - accuracy: 0.7805 - val_loss: 0.4823 - val_accuracy: 0.7771\n",
            "Epoch 96/3500\n",
            "559/559 [==============================] - 1s 2ms/step - loss: 0.4764 - accuracy: 0.7811 - val_loss: 0.4862 - val_accuracy: 0.7661\n",
            "Epoch 97/3500\n",
            "559/559 [==============================] - 1s 2ms/step - loss: 0.4765 - accuracy: 0.7815 - val_loss: 0.4887 - val_accuracy: 0.7602\n",
            "Epoch 98/3500\n",
            "559/559 [==============================] - 1s 2ms/step - loss: 0.4764 - accuracy: 0.7826 - val_loss: 0.4928 - val_accuracy: 0.7609\n",
            "Epoch 99/3500\n",
            "559/559 [==============================] - 1s 2ms/step - loss: 0.4755 - accuracy: 0.7835 - val_loss: 0.4907 - val_accuracy: 0.7689\n",
            "Epoch 100/3500\n",
            "559/559 [==============================] - 1s 2ms/step - loss: 0.4763 - accuracy: 0.7802 - val_loss: 0.4887 - val_accuracy: 0.7668\n",
            "Epoch 101/3500\n",
            "559/559 [==============================] - 1s 2ms/step - loss: 0.4757 - accuracy: 0.7816 - val_loss: 0.4858 - val_accuracy: 0.7649\n",
            "Epoch 102/3500\n",
            "559/559 [==============================] - 1s 2ms/step - loss: 0.4761 - accuracy: 0.7823 - val_loss: 0.4894 - val_accuracy: 0.7695\n",
            "Epoch 103/3500\n",
            "559/559 [==============================] - 1s 2ms/step - loss: 0.4748 - accuracy: 0.7806 - val_loss: 0.4878 - val_accuracy: 0.7724\n",
            "Epoch 104/3500\n",
            "559/559 [==============================] - 1s 2ms/step - loss: 0.4757 - accuracy: 0.7814 - val_loss: 0.4902 - val_accuracy: 0.7640\n",
            "Epoch 105/3500\n",
            "559/559 [==============================] - 1s 2ms/step - loss: 0.4751 - accuracy: 0.7816 - val_loss: 0.4910 - val_accuracy: 0.7609\n",
            "Epoch 106/3500\n",
            "559/559 [==============================] - 1s 2ms/step - loss: 0.4744 - accuracy: 0.7827 - val_loss: 0.4882 - val_accuracy: 0.7613\n",
            "Epoch 107/3500\n",
            "559/559 [==============================] - 1s 2ms/step - loss: 0.4750 - accuracy: 0.7814 - val_loss: 0.4905 - val_accuracy: 0.7714\n",
            "Epoch 108/3500\n",
            "559/559 [==============================] - 1s 2ms/step - loss: 0.4751 - accuracy: 0.7818 - val_loss: 0.4880 - val_accuracy: 0.7674\n",
            "Epoch 109/3500\n",
            "559/559 [==============================] - 1s 2ms/step - loss: 0.4745 - accuracy: 0.7859 - val_loss: 0.4921 - val_accuracy: 0.7625\n",
            "Epoch 110/3500\n",
            "559/559 [==============================] - 1s 2ms/step - loss: 0.4755 - accuracy: 0.7823 - val_loss: 0.4877 - val_accuracy: 0.7638\n",
            "Epoch 111/3500\n",
            "559/559 [==============================] - 1s 2ms/step - loss: 0.4738 - accuracy: 0.7835 - val_loss: 0.4963 - val_accuracy: 0.7657\n",
            "Epoch 112/3500\n",
            "559/559 [==============================] - 1s 2ms/step - loss: 0.4743 - accuracy: 0.7807 - val_loss: 0.4839 - val_accuracy: 0.7602\n",
            "Epoch 113/3500\n",
            "559/559 [==============================] - 1s 2ms/step - loss: 0.4745 - accuracy: 0.7826 - val_loss: 0.4890 - val_accuracy: 0.7625\n",
            "Epoch 114/3500\n",
            "559/559 [==============================] - 1s 2ms/step - loss: 0.4735 - accuracy: 0.7827 - val_loss: 0.4914 - val_accuracy: 0.7665\n",
            "Epoch 115/3500\n",
            "559/559 [==============================] - 1s 2ms/step - loss: 0.4737 - accuracy: 0.7835 - val_loss: 0.4864 - val_accuracy: 0.7638\n",
            "Epoch 115: early stopping\n"
          ]
        }
      ]
    },
    {
      "cell_type": "code",
      "source": [
        "print(\"Training Loss and Training Accuracy:\",model.evaluate(X_train_ros,Y_train_ros))\n",
        "print(\"Testing Loss and Testing Accuracy:\",model.evaluate(X_train_ros,Y_train_ros))"
      ],
      "metadata": {
        "id": "s5SgDVIlQrU4",
        "colab": {
          "base_uri": "https://localhost:8080/"
        },
        "outputId": "27021488-62f6-4765-ffe0-8fef5a67d4c1"
      },
      "execution_count": null,
      "outputs": [
        {
          "output_type": "stream",
          "name": "stdout",
          "text": [
            "350/350 [==============================] - 0s 1ms/step - loss: 0.4691 - accuracy: 0.7841\n",
            "Training Loss and Training Accuracy: [0.4690917432308197, 0.7840787172317505]\n",
            "350/350 [==============================] - 0s 1ms/step - loss: 0.4691 - accuracy: 0.7841\n",
            "Testing Loss and Testing Accuracy: [0.4690917432308197, 0.7840787172317505]\n"
          ]
        }
      ]
    },
    {
      "cell_type": "code",
      "source": [
        "# Visualisation Training and Testing Loss\n",
        "plt.plot(trained_model.history['loss'],label='Training Loss')\n",
        "plt.plot(trained_model.history['val_loss'],label='Testing Loss')\n",
        "plt.legend()\n",
        "plt.show()"
      ],
      "metadata": {
        "id": "yj0Z3FeaJzlM",
        "colab": {
          "base_uri": "https://localhost:8080/",
          "height": 265
        },
        "outputId": "7a080e54-1dbf-4f25-e2e8-27e112bec75e"
      },
      "execution_count": null,
      "outputs": [
        {
          "output_type": "display_data",
          "data": {
            "text/plain": [
              "<Figure size 432x288 with 1 Axes>"
            ],
            "image/png": "[encoded data removed]"
          },
          "metadata": {
            "needs_background": "light"
          }
        }
      ]
    },
    {
      "cell_type": "code",
      "source": [
        "# Visualise\n",
        "plt.plot(trained_model.history['accuracy'],label='Training Accuracy')\n",
        "plt.plot(trained_model.history['val_accuracy'],label='Testing Accuracy')\n",
        "plt.legend()\n",
        "plt.show()"
      ],
      "metadata": {
        "id": "HoFFRhk5J_P6",
        "colab": {
          "base_uri": "https://localhost:8080/",
          "height": 265
        },
        "outputId": "1cd51e2e-cca0-4eb9-f7ba-1534c78a14ee"
      },
      "execution_count": null,
      "outputs": [
        {
          "output_type": "display_data",
          "data": {
            "text/plain": [
              "<Figure size 432x288 with 1 Axes>"
            ],
            "image/png": "[encoded data removed]"
          },
          "metadata": {
            "needs_background": "light"
          }
        }
      ]
    },
    {
      "cell_type": "markdown",
      "source": [
        "**Conclusion**\n",
        "\n",
        "\n",
        "Now\n",
        "After using Regularization we got good accuracy, but we will still try to get more  accuracy.\n",
        "\n",
        "\n",
        "Then  now we will increase the numbers of neurons and if we increase the number of neurons we will use dropout .\n",
        "Dropout is a technique that drops  the number of neurons from the neural network or 'ignores' them during training.\n",
        "\n",
        "\n",
        "\n",
        "Its means dropout handle the huge amount of number of neurons.\n",
        "\n",
        "Dropout always 20,30,and 50% not more than 50% "
      ],
      "metadata": {
        "id": "N4wWeUTzfwzD"
      }
    },
    {
      "cell_type": "code",
      "source": [
        "# Create a Neural Network\n",
        "\n",
        "from keras import regularizers\n",
        "from keras.layers import Dropout\n",
        "model = tf.keras.models.Sequential([\n",
        "        tf.keras.layers.Dense(units=1000,activation='relu',input_shape=(X.shape[1],),kernel_regularizer=regularizers.l2(0.01)),Dropout(0.5),  # 1st Hidden Layer\n",
        "        tf.keras.layers.Dense(units=1000,activation='relu',kernel_regularizer=regularizers.l2(0.01)),Dropout(0.5),                            # 2nd Hidden Layer\n",
        "        tf.keras.layers.Dense(units=1,activation='sigmoid',kernel_regularizer=regularizers.l2(0.01))                                          # Output Layer \n",
        "])"
      ],
      "metadata": {
        "id": "ouM9wdtQhjsY"
      },
      "execution_count": null,
      "outputs": []
    },
    {
      "cell_type": "code",
      "execution_count": null,
      "metadata": {
        "id": "RVMNtt1qo2lf"
      },
      "outputs": [],
      "source": [
        "# Compile the model\n",
        "\n",
        "model.compile(optimizer='adam',loss='binary_crossentropy',metrics=['accuracy'])"
      ]
    },
    {
      "cell_type": "code",
      "execution_count": null,
      "metadata": {
        "colab": {
          "base_uri": "https://localhost:8080/"
        },
        "outputId": "0a2ca3ff-56d1-4141-f4c3-8ec7e4c2a2a7",
        "id": "uBIWcdJYo2lg"
      },
      "outputs": [
        {
          "output_type": "stream",
          "name": "stdout",
          "text": [
            "Epoch 1/3500\n",
            "350/350 [==============================] - 7s 18ms/step - loss: 1.2342 - accuracy: 0.7212 - val_loss: 0.6231 - val_accuracy: 0.7379\n",
            "Epoch 2/3500\n",
            "350/350 [==============================] - 6s 17ms/step - loss: 0.6222 - accuracy: 0.7426 - val_loss: 0.6146 - val_accuracy: 0.7499\n",
            "Epoch 3/3500\n",
            "350/350 [==============================] - 6s 17ms/step - loss: 0.6106 - accuracy: 0.7450 - val_loss: 0.6051 - val_accuracy: 0.7457\n",
            "Epoch 4/3500\n",
            "350/350 [==============================] - 6s 16ms/step - loss: 0.6103 - accuracy: 0.7384 - val_loss: 0.6027 - val_accuracy: 0.7391\n",
            "Epoch 5/3500\n",
            "350/350 [==============================] - 6s 16ms/step - loss: 0.6069 - accuracy: 0.7429 - val_loss: 0.6088 - val_accuracy: 0.7309\n",
            "Epoch 6/3500\n",
            "350/350 [==============================] - 6s 16ms/step - loss: 0.6033 - accuracy: 0.7426 - val_loss: 0.6055 - val_accuracy: 0.7404\n",
            "Epoch 7/3500\n",
            "350/350 [==============================] - 6s 17ms/step - loss: 0.6037 - accuracy: 0.7437 - val_loss: 0.5937 - val_accuracy: 0.7539\n",
            "Epoch 8/3500\n",
            "350/350 [==============================] - 6s 16ms/step - loss: 0.6043 - accuracy: 0.7423 - val_loss: 0.5939 - val_accuracy: 0.7514\n",
            "Epoch 9/3500\n",
            "350/350 [==============================] - 6s 16ms/step - loss: 0.6014 - accuracy: 0.7436 - val_loss: 0.5905 - val_accuracy: 0.7423\n",
            "Epoch 10/3500\n",
            "350/350 [==============================] - 6s 17ms/step - loss: 0.6003 - accuracy: 0.7428 - val_loss: 0.5947 - val_accuracy: 0.7413\n",
            "Epoch 11/3500\n",
            "350/350 [==============================] - 6s 17ms/step - loss: 0.5999 - accuracy: 0.7434 - val_loss: 0.5981 - val_accuracy: 0.7335\n",
            "Epoch 12/3500\n",
            "350/350 [==============================] - 6s 17ms/step - loss: 0.6018 - accuracy: 0.7449 - val_loss: 0.5882 - val_accuracy: 0.7486\n",
            "Epoch 13/3500\n",
            "350/350 [==============================] - 6s 16ms/step - loss: 0.5993 - accuracy: 0.7462 - val_loss: 0.5977 - val_accuracy: 0.7434\n",
            "Epoch 14/3500\n",
            "350/350 [==============================] - 6s 16ms/step - loss: 0.5993 - accuracy: 0.7431 - val_loss: 0.6071 - val_accuracy: 0.7280\n",
            "Epoch 15/3500\n",
            "350/350 [==============================] - 6s 17ms/step - loss: 0.6006 - accuracy: 0.7425 - val_loss: 0.5888 - val_accuracy: 0.7459\n",
            "Epoch 16/3500\n",
            "350/350 [==============================] - 6s 16ms/step - loss: 0.6002 - accuracy: 0.7439 - val_loss: 0.5931 - val_accuracy: 0.7354\n",
            "Epoch 17/3500\n",
            "350/350 [==============================] - 6s 16ms/step - loss: 0.5991 - accuracy: 0.7485 - val_loss: 0.5888 - val_accuracy: 0.7579\n",
            "Epoch 18/3500\n",
            "350/350 [==============================] - 6s 16ms/step - loss: 0.5990 - accuracy: 0.7479 - val_loss: 0.5909 - val_accuracy: 0.7476\n",
            "Epoch 19/3500\n",
            "350/350 [==============================] - 6s 16ms/step - loss: 0.5965 - accuracy: 0.7446 - val_loss: 0.5891 - val_accuracy: 0.7472\n",
            "Epoch 20/3500\n",
            "350/350 [==============================] - 6s 17ms/step - loss: 0.5975 - accuracy: 0.7454 - val_loss: 0.5962 - val_accuracy: 0.7351\n",
            "Epoch 21/3500\n",
            "350/350 [==============================] - 7s 19ms/step - loss: 0.5989 - accuracy: 0.7439 - val_loss: 0.5841 - val_accuracy: 0.7562\n",
            "Epoch 22/3500\n",
            "350/350 [==============================] - 6s 18ms/step - loss: 0.5992 - accuracy: 0.7428 - val_loss: 0.5925 - val_accuracy: 0.7556\n",
            "Epoch 23/3500\n",
            "350/350 [==============================] - 6s 16ms/step - loss: 0.5959 - accuracy: 0.7463 - val_loss: 0.5819 - val_accuracy: 0.7541\n",
            "Epoch 24/3500\n",
            "350/350 [==============================] - 6s 16ms/step - loss: 0.5968 - accuracy: 0.7451 - val_loss: 0.5870 - val_accuracy: 0.7512\n",
            "Epoch 25/3500\n",
            "350/350 [==============================] - 6s 17ms/step - loss: 0.5964 - accuracy: 0.7467 - val_loss: 0.5891 - val_accuracy: 0.7486\n",
            "Epoch 26/3500\n",
            "350/350 [==============================] - 6s 17ms/step - loss: 0.5964 - accuracy: 0.7471 - val_loss: 0.5891 - val_accuracy: 0.7526\n",
            "Epoch 27/3500\n",
            "350/350 [==============================] - 6s 17ms/step - loss: 0.5985 - accuracy: 0.7447 - val_loss: 0.5844 - val_accuracy: 0.7522\n",
            "Epoch 28/3500\n",
            "350/350 [==============================] - 6s 17ms/step - loss: 0.5972 - accuracy: 0.7443 - val_loss: 0.5858 - val_accuracy: 0.7482\n",
            "Epoch 29/3500\n",
            "350/350 [==============================] - 6s 16ms/step - loss: 0.5965 - accuracy: 0.7440 - val_loss: 0.5848 - val_accuracy: 0.7514\n",
            "Epoch 30/3500\n",
            "350/350 [==============================] - 6s 17ms/step - loss: 0.5954 - accuracy: 0.7457 - val_loss: 0.5850 - val_accuracy: 0.7505\n",
            "Epoch 31/3500\n",
            "350/350 [==============================] - 6s 17ms/step - loss: 0.5964 - accuracy: 0.7431 - val_loss: 0.5869 - val_accuracy: 0.7547\n",
            "Epoch 32/3500\n",
            "350/350 [==============================] - 6s 17ms/step - loss: 0.5970 - accuracy: 0.7447 - val_loss: 0.5851 - val_accuracy: 0.7493\n",
            "Epoch 33/3500\n",
            "350/350 [==============================] - 6s 17ms/step - loss: 0.5963 - accuracy: 0.7472 - val_loss: 0.5936 - val_accuracy: 0.7383\n",
            "Epoch 34/3500\n",
            "350/350 [==============================] - 7s 19ms/step - loss: 0.5970 - accuracy: 0.7418 - val_loss: 0.5847 - val_accuracy: 0.7497\n",
            "Epoch 35/3500\n",
            "350/350 [==============================] - 11s 32ms/step - loss: 0.5973 - accuracy: 0.7441 - val_loss: 0.5993 - val_accuracy: 0.7446\n",
            "Epoch 36/3500\n",
            "350/350 [==============================] - 8s 24ms/step - loss: 0.5967 - accuracy: 0.7453 - val_loss: 0.5836 - val_accuracy: 0.7512\n",
            "Epoch 37/3500\n",
            "350/350 [==============================] - 6s 17ms/step - loss: 0.5969 - accuracy: 0.7419 - val_loss: 0.5908 - val_accuracy: 0.7520\n",
            "Epoch 38/3500\n",
            "350/350 [==============================] - 6s 17ms/step - loss: 0.5960 - accuracy: 0.7466 - val_loss: 0.5880 - val_accuracy: 0.7528\n",
            "Epoch 39/3500\n",
            "350/350 [==============================] - 6s 17ms/step - loss: 0.5974 - accuracy: 0.7438 - val_loss: 0.5845 - val_accuracy: 0.7531\n",
            "Epoch 40/3500\n",
            "350/350 [==============================] - 6s 17ms/step - loss: 0.5933 - accuracy: 0.7439 - val_loss: 0.5869 - val_accuracy: 0.7463\n",
            "Epoch 41/3500\n",
            "350/350 [==============================] - 6s 17ms/step - loss: 0.5954 - accuracy: 0.7452 - val_loss: 0.5882 - val_accuracy: 0.7482\n",
            "Epoch 42/3500\n",
            "350/350 [==============================] - 6s 17ms/step - loss: 0.5987 - accuracy: 0.7433 - val_loss: 0.5939 - val_accuracy: 0.7383\n",
            "Epoch 43/3500\n",
            "350/350 [==============================] - 6s 17ms/step - loss: 0.5934 - accuracy: 0.7453 - val_loss: 0.5927 - val_accuracy: 0.7368\n",
            "Epoch 43: early stopping\n"
          ]
        }
      ],
      "source": [
        "# Train the Model\n",
        "\n",
        "trained_model= model.fit(X_train_ros,Y_train_ros,batch_size=32,epochs=3500,\n",
        "                          validation_data=(X_test_ros,Y_test_ros),callbacks=callback)"
      ]
    },
    {
      "cell_type": "code",
      "execution_count": null,
      "metadata": {
        "id": "I-3AeCjPo2lh",
        "colab": {
          "base_uri": "https://localhost:8080/"
        },
        "outputId": "353d7f8a-acad-4efd-9656-fd0ffe860944"
      },
      "outputs": [
        {
          "output_type": "stream",
          "name": "stdout",
          "text": [
            "350/350 [==============================] - 2s 7ms/step - loss: 0.5902 - accuracy: 0.7485\n",
            "Training Loss and Training Accuracy: [0.5901646018028259, 0.748479425907135]\n",
            "350/350 [==============================] - 1s 4ms/step - loss: 0.5902 - accuracy: 0.7485\n",
            "Testing Loss and Testing Accuracy: [0.5901646018028259, 0.748479425907135]\n"
          ]
        }
      ],
      "source": [
        "print(\"Training Loss and Training Accuracy:\",model.evaluate(X_train_ros,Y_train_ros))\n",
        "print(\"Testing Loss and Testing Accuracy:\",model.evaluate(X_train_ros,Y_train_ros))"
      ]
    },
    {
      "cell_type": "code",
      "execution_count": null,
      "metadata": {
        "id": "qdugL1i7o2li",
        "colab": {
          "base_uri": "https://localhost:8080/",
          "height": 265
        },
        "outputId": "72197947-880a-48eb-9102-678ca6a40296"
      },
      "outputs": [
        {
          "output_type": "display_data",
          "data": {
            "text/plain": [
              "<Figure size 432x288 with 1 Axes>"
            ],
            "image/png": "[encoded data removed]"
          },
          "metadata": {
            "needs_background": "light"
          }
        }
      ],
      "source": [
        "# Visualisation Training and Testing Loss\n",
        "\n",
        "plt.plot(trained_model.history['loss'],label='Training Loss')\n",
        "plt.plot(trained_model.history['val_loss'],label='Testing Loss')\n",
        "plt.legend()\n",
        "plt.show()"
      ]
    },
    {
      "cell_type": "code",
      "execution_count": null,
      "metadata": {
        "id": "vFqG6ZMQo2lj",
        "colab": {
          "base_uri": "https://localhost:8080/",
          "height": 265
        },
        "outputId": "0e360e96-b3e8-45c6-c99b-5a4a2bf357e0"
      },
      "outputs": [
        {
          "output_type": "display_data",
          "data": {
            "text/plain": [
              "<Figure size 432x288 with 1 Axes>"
            ],
            "image/png": "[encoded data removed]"
          },
          "metadata": {
            "needs_background": "light"
          }
        }
      ],
      "source": [
        "# Visualisation Training and Testing Accuracy\n",
        "\n",
        "plt.plot(trained_model.history['accuracy'],label='Training Accuracy')\n",
        "plt.plot(trained_model.history['val_accuracy'],label='Testing Accuracy')\n",
        "plt.legend()\n",
        "plt.show()"
      ]
    },
    {
      "cell_type": "markdown",
      "source": [
        "**Conclusion**\n",
        "\n",
        "\n",
        "\n",
        "\n",
        " We can see that,After applying Dropout we got better percentage as what we had applied using Regularization."
      ],
      "metadata": {
        "id": "ehzXjCEoO3Ov"
      }
    }
  ]
}